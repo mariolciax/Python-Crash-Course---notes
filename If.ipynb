{
 "cells": [
  {
   "cell_type": "markdown",
   "id": "1b1d8b43",
   "metadata": {},
   "source": [
    "# Python - IF"
   ]
  },
  {
   "cell_type": "markdown",
   "id": "4c75e9aa",
   "metadata": {},
   "source": [
    "### At the heart of every if statement is an expression that can be evaluated as True or False and is called a conditional test"
   ]
  },
  {
   "cell_type": "code",
   "execution_count": 1,
   "id": "94f5f65e",
   "metadata": {},
   "outputs": [
    {
     "name": "stdout",
     "output_type": "stream",
     "text": [
      "Audi\n",
      "BMW\n",
      "Subaru\n",
      "Toyota\n"
     ]
    }
   ],
   "source": [
    "cars = ['audi', 'bmw', 'subaru', 'toyota']\n",
    "for car in cars:\n",
    "    if car == 'bmw':\n",
    "         print(car.upper())\n",
    "    else:\n",
    "         print(car.title())"
   ]
  },
  {
   "cell_type": "markdown",
   "id": "a6e756f0",
   "metadata": {},
   "source": [
    "#### Checking for equality"
   ]
  },
  {
   "cell_type": "code",
   "execution_count": 3,
   "id": "35091ad7",
   "metadata": {},
   "outputs": [
    {
     "data": {
      "text/plain": [
       "True"
      ]
     },
     "execution_count": 3,
     "metadata": {},
     "output_type": "execute_result"
    }
   ],
   "source": [
    "car='bmw'\n",
    "car=='bmw'"
   ]
  },
  {
   "cell_type": "code",
   "execution_count": 4,
   "id": "92cfd1e6",
   "metadata": {},
   "outputs": [
    {
     "data": {
      "text/plain": [
       "False"
      ]
     },
     "execution_count": 4,
     "metadata": {},
     "output_type": "execute_result"
    }
   ],
   "source": [
    "age_0 = 22\n",
    "age_1 = 18\n",
    "age_0 >= 21 and age_1 >= 21"
   ]
  },
  {
   "cell_type": "code",
   "execution_count": 5,
   "id": "72ff4220",
   "metadata": {},
   "outputs": [
    {
     "data": {
      "text/plain": [
       "False"
      ]
     },
     "execution_count": 5,
     "metadata": {},
     "output_type": "execute_result"
    }
   ],
   "source": [
    "#better\n",
    "(age_0 >= 21) and (age_1 >= 21)"
   ]
  },
  {
   "cell_type": "markdown",
   "id": "86c6d8a7",
   "metadata": {},
   "source": [
    "#### In"
   ]
  },
  {
   "cell_type": "code",
   "execution_count": 6,
   "id": "c2aab9b9",
   "metadata": {},
   "outputs": [
    {
     "data": {
      "text/plain": [
       "True"
      ]
     },
     "execution_count": 6,
     "metadata": {},
     "output_type": "execute_result"
    }
   ],
   "source": [
    "requested_toppings = ['mushrooms', 'onions', 'pineapple']\n",
    "'mushrooms' in requested_toppings"
   ]
  },
  {
   "cell_type": "markdown",
   "id": "5804cd3a",
   "metadata": {},
   "source": [
    "#### Not In"
   ]
  },
  {
   "cell_type": "code",
   "execution_count": 8,
   "id": "f4be67f8",
   "metadata": {},
   "outputs": [
    {
     "name": "stdout",
     "output_type": "stream",
     "text": [
      "Marie, you can post a response if you wish.\n"
     ]
    }
   ],
   "source": [
    "banned_users = ['andrew', 'carolina', 'david']\n",
    "user = 'marie'\n",
    "\n",
    "if user not in banned_users:\n",
    "    print(user.title() + \", you can post a response if you wish.\")"
   ]
  },
  {
   "cell_type": "code",
   "execution_count": 9,
   "id": "589ebca9",
   "metadata": {},
   "outputs": [
    {
     "name": "stdout",
     "output_type": "stream",
     "text": [
      "Is car == 'subaru'? I predict True.\n",
      "True\n",
      "\n",
      "Is car == 'audi'? I predict False.\n",
      "False\n"
     ]
    }
   ],
   "source": [
    "car = 'subaru'\n",
    "print(\"Is car == 'subaru'? I predict True.\")\n",
    "print(car == 'subaru')\n",
    "\n",
    "print(\"\\nIs car == 'audi'? I predict False.\")\n",
    "print(car == 'audi')\n"
   ]
  },
  {
   "cell_type": "code",
   "execution_count": 10,
   "id": "c5172247",
   "metadata": {},
   "outputs": [
    {
     "name": "stdout",
     "output_type": "stream",
     "text": [
      "Sorry, you are too young to vote.\n",
      "Please register to vote as soon as you turn 18!\n"
     ]
    }
   ],
   "source": [
    "age = 17\n",
    "if age >= 18:\n",
    " print(\"You are old enough to vote!\")\n",
    " print(\"Have you registered to vote yet?\")\n",
    "else:\n",
    " print(\"Sorry, you are too young to vote.\")\n",
    " print(\"Please register to vote as soon as you turn 18!\")"
   ]
  },
  {
   "cell_type": "markdown",
   "id": "3ff0b9e3",
   "metadata": {},
   "source": [
    "#### Statment with loops"
   ]
  },
  {
   "cell_type": "code",
   "execution_count": 11,
   "id": "1a2832aa",
   "metadata": {},
   "outputs": [
    {
     "name": "stdout",
     "output_type": "stream",
     "text": [
      "Adding mushrooms.\n",
      "Adding green peppers.\n",
      "Adding extra cheese.\n",
      "\n",
      "Finished making your pizza!\n"
     ]
    }
   ],
   "source": [
    "requested_toppings = ['mushrooms', 'green peppers', 'extra cheese']\n",
    "for requested_topping in requested_toppings:\n",
    " print(\"Adding \" + requested_topping + \".\")\n",
    "print(\"\\nFinished making your pizza!\")\n"
   ]
  },
  {
   "cell_type": "code",
   "execution_count": null,
   "id": "4b91eb5d",
   "metadata": {},
   "outputs": [],
   "source": []
  }
 ],
 "metadata": {
  "kernelspec": {
   "display_name": "Python 3",
   "language": "python",
   "name": "python3"
  },
  "language_info": {
   "codemirror_mode": {
    "name": "ipython",
    "version": 3
   },
   "file_extension": ".py",
   "mimetype": "text/x-python",
   "name": "python",
   "nbconvert_exporter": "python",
   "pygments_lexer": "ipython3",
   "version": "3.8.8"
  }
 },
 "nbformat": 4,
 "nbformat_minor": 5
}
