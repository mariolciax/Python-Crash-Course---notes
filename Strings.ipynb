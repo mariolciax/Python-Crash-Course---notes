{
 "cells": [
  {
   "cell_type": "markdown",
   "id": "3fd09f8c",
   "metadata": {},
   "source": [
    "# Python - strings."
   ]
  },
  {
   "cell_type": "markdown",
   "id": "562c6c1f",
   "metadata": {},
   "source": [
    "### *'Keep your code as simple as possible, whenever possible'*"
   ]
  },
  {
   "cell_type": "markdown",
   "id": "6635bc72",
   "metadata": {},
   "source": [
    "## Strings"
   ]
  },
  {
   "cell_type": "markdown",
   "id": "ef73872d",
   "metadata": {},
   "source": [
    "#### Adding a new line:"
   ]
  },
  {
   "cell_type": "code",
   "execution_count": 1,
   "id": "48004c47",
   "metadata": {},
   "outputs": [
    {
     "name": "stdout",
     "output_type": "stream",
     "text": [
      "Languages:\n",
      "Python\n",
      "C\n",
      "JavaScript\n"
     ]
    }
   ],
   "source": [
    " print(\"Languages:\\nPython\\nC\\nJavaScript\")"
   ]
  },
  {
   "cell_type": "markdown",
   "id": "1b11c682",
   "metadata": {},
   "source": [
    "#### Starting new line with a tab:"
   ]
  },
  {
   "cell_type": "code",
   "execution_count": 2,
   "id": "09dd4a18",
   "metadata": {},
   "outputs": [
    {
     "name": "stdout",
     "output_type": "stream",
     "text": [
      "Languages:\n",
      "\tPython\n",
      "\tC\n"
     ]
    }
   ],
   "source": [
    " print(\"Languages:\\n\\tPython\\n\\tC\")"
   ]
  },
  {
   "cell_type": "markdown",
   "id": "74eaea8c",
   "metadata": {},
   "source": [
    "#### Removing the extra space:"
   ]
  },
  {
   "cell_type": "code",
   "execution_count": 6,
   "id": "2dd22717",
   "metadata": {},
   "outputs": [
    {
     "name": "stdout",
     "output_type": "stream",
     "text": [
      "Bart\n",
      "Mariola \n",
      "Mariola\n"
     ]
    }
   ],
   "source": [
    "name = \"Bart \"\n",
    "print(name.rstrip())\n",
    "\n",
    "lady_name = \" Mariola \"\n",
    "print(lady_name.lstrip()) #left side\n",
    "print(lady_name.strip()) #both side"
   ]
  },
  {
   "cell_type": "markdown",
   "id": "c2defd93",
   "metadata": {},
   "source": [
    " #### Avoiding type errors doing contecanation"
   ]
  },
  {
   "cell_type": "code",
   "execution_count": 9,
   "id": "2ecda84e",
   "metadata": {},
   "outputs": [
    {
     "name": "stdout",
     "output_type": "stream",
     "text": [
      "Happy 22rd Birthday!\n"
     ]
    }
   ],
   "source": [
    "age = 22\n",
    "print(\"Happy \" + str(age)+ \"rd Birthday!\")"
   ]
  }
 ],
 "metadata": {
  "kernelspec": {
   "display_name": "Python 3",
   "language": "python",
   "name": "python3"
  },
  "language_info": {
   "codemirror_mode": {
    "name": "ipython",
    "version": 3
   },
   "file_extension": ".py",
   "mimetype": "text/x-python",
   "name": "python",
   "nbconvert_exporter": "python",
   "pygments_lexer": "ipython3",
   "version": "3.8.8"
  }
 },
 "nbformat": 4,
 "nbformat_minor": 5
}
