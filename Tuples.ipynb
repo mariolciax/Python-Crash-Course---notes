{
 "cells": [
  {
   "cell_type": "markdown",
   "id": "ca801f23",
   "metadata": {},
   "source": [
    "# Python - Tuples"
   ]
  },
  {
   "cell_type": "markdown",
   "id": "fdd4a00e",
   "metadata": {},
   "source": [
    "### Sometimes you’ll want to create a list of items that cannot change. Tuples allow you to do just that. "
   ]
  },
  {
   "cell_type": "code",
   "execution_count": 2,
   "id": "43d074d0",
   "metadata": {},
   "outputs": [
    {
     "name": "stdout",
     "output_type": "stream",
     "text": [
      "200\n",
      "50\n"
     ]
    }
   ],
   "source": [
    "dimensions = (200, 50)\n",
    "print(dimensions[0])\n",
    "print(dimensions[1])"
   ]
  },
  {
   "cell_type": "code",
   "execution_count": 3,
   "id": "ef0eb3bb",
   "metadata": {},
   "outputs": [
    {
     "name": "stdout",
     "output_type": "stream",
     "text": [
      "\n",
      "Modified dimensions:\n",
      "400\n",
      "100\n"
     ]
    }
   ],
   "source": [
    "dimensions = (400, 100)\n",
    "print(\"\\nModified dimensions:\")\n",
    "for dimension in dimensions:\n",
    " print(dimension)"
   ]
  },
  {
   "cell_type": "code",
   "execution_count": null,
   "id": "a04e1e78",
   "metadata": {},
   "outputs": [],
   "source": []
  }
 ],
 "metadata": {
  "kernelspec": {
   "display_name": "Python 3",
   "language": "python",
   "name": "python3"
  },
  "language_info": {
   "codemirror_mode": {
    "name": "ipython",
    "version": 3
   },
   "file_extension": ".py",
   "mimetype": "text/x-python",
   "name": "python",
   "nbconvert_exporter": "python",
   "pygments_lexer": "ipython3",
   "version": "3.8.8"
  }
 },
 "nbformat": 4,
 "nbformat_minor": 5
}
