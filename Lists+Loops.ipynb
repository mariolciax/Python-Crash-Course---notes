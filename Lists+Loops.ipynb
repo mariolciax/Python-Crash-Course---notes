{
 "cells": [
  {
   "cell_type": "markdown",
   "id": "b9889129",
   "metadata": {},
   "source": [
    "# Python - Loops"
   ]
  },
  {
   "cell_type": "markdown",
   "id": "5727cd16",
   "metadata": {},
   "source": [
    "#### for LOOP"
   ]
  },
  {
   "cell_type": "code",
   "execution_count": 4,
   "id": "9d77facb",
   "metadata": {},
   "outputs": [
    {
     "name": "stdout",
     "output_type": "stream",
     "text": [
      "mary\n",
      "kate\n",
      "carolina\n"
     ]
    }
   ],
   "source": [
    "magicians = ['mary', 'kate', 'carolina']\n",
    "#“For every magician in the list of magicians, print the magician’s name.”\n",
    "for magician in magicians:\n",
    "    print(magician)"
   ]
  },
  {
   "cell_type": "code",
   "execution_count": 6,
   "id": "69cdecba",
   "metadata": {},
   "outputs": [
    {
     "name": "stdout",
     "output_type": "stream",
     "text": [
      "1\n",
      "2\n",
      "3\n",
      "4\n"
     ]
    }
   ],
   "source": [
    "for value in range(1,5):\n",
    "    print(value)"
   ]
  },
  {
   "cell_type": "markdown",
   "id": "75cfa7e8",
   "metadata": {},
   "source": [
    "#### range()"
   ]
  },
  {
   "cell_type": "code",
   "execution_count": 7,
   "id": "42962e50",
   "metadata": {},
   "outputs": [
    {
     "name": "stdout",
     "output_type": "stream",
     "text": [
      "[1, 2, 3, 4, 5]\n"
     ]
    }
   ],
   "source": [
    "numbers = list(range(1,6))\n",
    "print(numbers)"
   ]
  },
  {
   "cell_type": "code",
   "execution_count": 9,
   "id": "bc0725c0",
   "metadata": {},
   "outputs": [
    {
     "name": "stdout",
     "output_type": "stream",
     "text": [
      "[2, 4, 6, 8, 10]\n"
     ]
    }
   ],
   "source": [
    "#even numbers between 1 and 10\n",
    "even_numbers = list(range(2,11,2))\n",
    "print(even_numbers)"
   ]
  },
  {
   "cell_type": "markdown",
   "id": "6f13c776",
   "metadata": {},
   "source": [
    "#### Creating sets "
   ]
  },
  {
   "cell_type": "code",
   "execution_count": 12,
   "id": "8c91c50a",
   "metadata": {},
   "outputs": [
    {
     "name": "stdout",
     "output_type": "stream",
     "text": [
      "[1, 4, 9, 16, 25, 36, 49, 64, 81, 100]\n"
     ]
    }
   ],
   "source": [
    "squares = []\n",
    "for value in range(1,11):\n",
    "    square = value**2\n",
    "    squares.append(square)\n",
    "\n",
    "print(squares)"
   ]
  },
  {
   "cell_type": "code",
   "execution_count": 13,
   "id": "ba9b1592",
   "metadata": {},
   "outputs": [
    {
     "name": "stdout",
     "output_type": "stream",
     "text": [
      "[1, 4, 9, 16, 25, 36, 49, 64, 81, 100]\n"
     ]
    }
   ],
   "source": [
    "#easier\n",
    "squares = []\n",
    "for value in range(1,11):\n",
    " squares.append(value**2)\n",
    "print(squares)"
   ]
  },
  {
   "cell_type": "markdown",
   "id": "a04b3341",
   "metadata": {},
   "source": [
    "#### Minimum, Maximum, Sum"
   ]
  },
  {
   "cell_type": "code",
   "execution_count": 15,
   "id": "6d778954",
   "metadata": {},
   "outputs": [
    {
     "data": {
      "text/plain": [
       "0"
      ]
     },
     "execution_count": 15,
     "metadata": {},
     "output_type": "execute_result"
    }
   ],
   "source": [
    "digits = [1, 2, 3, 4, 5, 6, 7, 8, 9, 0]\n",
    "min(digits)"
   ]
  },
  {
   "cell_type": "code",
   "execution_count": 16,
   "id": "3015ce29",
   "metadata": {},
   "outputs": [
    {
     "data": {
      "text/plain": [
       "9"
      ]
     },
     "execution_count": 16,
     "metadata": {},
     "output_type": "execute_result"
    }
   ],
   "source": [
    "max(digits)"
   ]
  },
  {
   "cell_type": "code",
   "execution_count": 17,
   "id": "a9166f0e",
   "metadata": {},
   "outputs": [
    {
     "data": {
      "text/plain": [
       "45"
      ]
     },
     "execution_count": 17,
     "metadata": {},
     "output_type": "execute_result"
    }
   ],
   "source": [
    "sum(digits)"
   ]
  },
  {
   "cell_type": "markdown",
   "id": "d6f9ad25",
   "metadata": {},
   "source": [
    "### Exercises"
   ]
  },
  {
   "cell_type": "code",
   "execution_count": 19,
   "id": "0bba3343",
   "metadata": {},
   "outputs": [
    {
     "data": {
      "text/plain": [
       "500000500000"
      ]
     },
     "execution_count": 19,
     "metadata": {},
     "output_type": "execute_result"
    }
   ],
   "source": [
    "sum(range(1,1000001))"
   ]
  },
  {
   "cell_type": "code",
   "execution_count": 21,
   "id": "f4072d41",
   "metadata": {},
   "outputs": [
    {
     "data": {
      "text/plain": [
       "[1, 8, 27, 64, 125, 216, 343, 512, 729, 1000]"
      ]
     },
     "execution_count": 21,
     "metadata": {},
     "output_type": "execute_result"
    }
   ],
   "source": [
    "[value**3 for value in range(1,11)]"
   ]
  },
  {
   "cell_type": "markdown",
   "id": "0dce4256",
   "metadata": {},
   "source": [
    "#### Slicing list"
   ]
  },
  {
   "cell_type": "code",
   "execution_count": 26,
   "id": "d6b27fc7",
   "metadata": {},
   "outputs": [
    {
     "name": "stdout",
     "output_type": "stream",
     "text": [
      "['charles', 'martina', 'michael', 'florence']\n",
      "['charles', 'martina', 'michael']\n",
      "['michael', 'florence', 'eli']\n"
     ]
    },
    {
     "data": {
      "text/plain": [
       "['michael', 'florence', 'eli']"
      ]
     },
     "execution_count": 26,
     "metadata": {},
     "output_type": "execute_result"
    }
   ],
   "source": [
    "players = ['charles', 'martina', 'michael', 'florence', 'eli']\n",
    "print(players[:4])\n",
    "print(players[0:3])\n",
    "print(players[2:])\n",
    "\n",
    "#the last 3 players\n",
    "players[-3:]"
   ]
  },
  {
   "cell_type": "markdown",
   "id": "15857a0d",
   "metadata": {},
   "source": [
    "## Attention: "
   ]
  },
  {
   "cell_type": "code",
   "execution_count": 28,
   "id": "32023848",
   "metadata": {},
   "outputs": [],
   "source": [
    "my_foods = ['pizza', 'falafel', 'carrot cake']\n",
    "friend_foods = my_foods[:] #!= friend_foods = my_foods"
   ]
  },
  {
   "cell_type": "code",
   "execution_count": null,
   "id": "48e83fa0",
   "metadata": {},
   "outputs": [],
   "source": []
  }
 ],
 "metadata": {
  "kernelspec": {
   "display_name": "Python 3",
   "language": "python",
   "name": "python3"
  },
  "language_info": {
   "codemirror_mode": {
    "name": "ipython",
    "version": 3
   },
   "file_extension": ".py",
   "mimetype": "text/x-python",
   "name": "python",
   "nbconvert_exporter": "python",
   "pygments_lexer": "ipython3",
   "version": "3.8.8"
  }
 },
 "nbformat": 4,
 "nbformat_minor": 5
}
